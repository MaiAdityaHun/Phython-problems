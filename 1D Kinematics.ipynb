{
 "cells": [
  {
   "cell_type": "markdown",
   "id": "b0074157-971a-4cec-82d7-535933313084",
   "metadata": {},
   "source": [
    "A cart is ona track at x=0m and t=0s, Cart is moving with x velocity=0.45m/s, where is cart after 1.5 sec?"
   ]
  },
  {
   "cell_type": "code",
   "execution_count": 2,
   "id": "0f1921e3-eb47-43d4-9a79-a8d3ddfa48ff",
   "metadata": {},
   "outputs": [
    {
     "name": "stdout",
     "output_type": "stream",
     "text": [
      "0.675\n"
     ]
    }
   ],
   "source": [
    "x=0\n",
    "t=0\n",
    "v=0.45\n",
    "dt=0.1\n",
    "\n",
    "while t<1.5:\n",
    "    x=x+v*dt #v=(x2-x1)/dt\n",
    "    t=t+dt\n",
    "print(x)\n"
   ]
  },
  {
   "cell_type": "markdown",
   "id": "a51f4498-5f4c-4a43-8098-bce2aa85650e",
   "metadata": {},
   "source": [
    "1) Now where will it be at 2.2 sec\n",
    "2) what if v=0.62m/s where will be the cart at 2.2s\n",
    "3) if cart starts from -0.5 where would it be\n",
    "4) Same as the previous code just acceleration 0f 0.2 m/s^2 is added"
   ]
  },
  {
   "cell_type": "code",
   "execution_count": 16,
   "id": "855fb4ad-7a3a-4d3c-a481-d74f4832783b",
   "metadata": {},
   "outputs": [
    {
     "name": "stdout",
     "output_type": "stream",
     "text": [
      "1) 0.99\n",
      "2) 1.364\n",
      "3) 0.864\n",
      "4) 0.915\n"
     ]
    }
   ],
   "source": [
    "#1\n",
    "x=0\n",
    "t=0\n",
    "v=0.45\n",
    "dt=0.1\n",
    "\n",
    "while t<2.2:\n",
    "    x=x+v*dt\n",
    "    t=t+dt\n",
    "print(\"1)\",round(x,3))\n",
    "\n",
    "#2\n",
    "x=0\n",
    "t=0\n",
    "v=0.62\n",
    "dt=0.1\n",
    "\n",
    "while t<2.2:\n",
    "    x=x+v*dt\n",
    "    t=t+dt\n",
    "print(\"2)\",round(x,3))\n",
    "\n",
    "#3\n",
    "x=-0.5\n",
    "t=0\n",
    "v=0.62\n",
    "dt=0.1\n",
    "\n",
    "while t<2.2:\n",
    "    x=x+v*dt\n",
    "    t=t+dt\n",
    "print(\"3)\",round(x,3))\n",
    "\n",
    "#4   \n",
    "x=0\n",
    "t=0\n",
    "v=0.45\n",
    "a=0.2\n",
    "dt=0.1\n",
    "while t<1.5:\n",
    "    v=v+a*dt\n",
    "    x=x+v*dt\n",
    "    t=t+dt\n",
    "print(\"4)\",round(x,3))"
   ]
  }
 ],
 "metadata": {
  "kernelspec": {
   "display_name": "Python 3 (ipykernel)",
   "language": "python",
   "name": "python3"
  },
  "language_info": {
   "codemirror_mode": {
    "name": "ipython",
    "version": 3
   },
   "file_extension": ".py",
   "mimetype": "text/x-python",
   "name": "python",
   "nbconvert_exporter": "python",
   "pygments_lexer": "ipython3",
   "version": "3.11.4"
  }
 },
 "nbformat": 4,
 "nbformat_minor": 5
}
